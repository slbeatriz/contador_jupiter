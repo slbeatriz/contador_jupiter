{
 "cells": [
  {
   "cell_type": "markdown",
   "metadata": {},
   "source": [
    "Programa em Python que conta o número de vogais do arquivo \"poema_rupi.txt\"."
   ]
  },
  {
   "cell_type": "code",
   "execution_count": 21,
   "metadata": {},
   "outputs": [
    {
     "name": "stdout",
     "output_type": "stream",
     "text": [
      "O número de vogais no arquivo 'poema_rupi.txt' é: 70\n"
     ]
    }
   ],
   "source": [
    "arquivo = \"poema_rupi.txt\"\n",
    "\n",
    "def contar_vogais(texto):\n",
    "    vogais = \"aeiouAEIOU\"\n",
    "    contador = sum(1 for char in texto if char in vogais)\n",
    "    return contador\n",
    "\n",
    "def vogais_em_arquivo(nome_arquivo):\n",
    "    try:\n",
    "        with open(nome_arquivo, 'r') as arquivo:\n",
    "            conteudo = arquivo.read()\n",
    "            numero_vogais = contar_vogais(conteudo)\n",
    "            return numero_vogais\n",
    "\n",
    "    except Exception as e:\n",
    "        print(f\"Ocorreu um erro: {e}\")\n",
    "\n",
    "numero_de_vogais = vogais_em_arquivo(arquivo)\n",
    "\n",
    "if numero_de_vogais is not None:\n",
    "    print(f\"O número de vogais no arquivo '{arquivo}' é: {numero_de_vogais}\")"
   ]
  }
 ],
 "metadata": {
  "kernelspec": {
   "display_name": "Python 3",
   "language": "python",
   "name": "python3"
  },
  "language_info": {
   "codemirror_mode": {
    "name": "ipython",
    "version": 3
   },
   "file_extension": ".py",
   "mimetype": "text/x-python",
   "name": "python",
   "nbconvert_exporter": "python",
   "pygments_lexer": "ipython3",
   "version": "3.11.5"
  }
 },
 "nbformat": 4,
 "nbformat_minor": 2
}
